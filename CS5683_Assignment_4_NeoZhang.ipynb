{
  "nbformat": 4,
  "nbformat_minor": 0,
  "metadata": {
    "kernelspec": {
      "display_name": "Python 3",
      "language": "python",
      "name": "python3"
    },
    "language_info": {
      "codemirror_mode": {
        "name": "ipython",
        "version": 3
      },
      "file_extension": ".py",
      "mimetype": "text/x-python",
      "name": "python",
      "nbconvert_exporter": "python",
      "pygments_lexer": "ipython3",
      "version": "3.7.4"
    },
    "colab": {
      "name": "CS5683_Assignment-4_NeoZhang.ipynb",
      "provenance": [],
      "collapsed_sections": [],
      "include_colab_link": true
    }
  },
  "cells": [
    {
      "cell_type": "markdown",
      "metadata": {
        "id": "view-in-github",
        "colab_type": "text"
      },
      "source": [
        "<a href=\"https://colab.research.google.com/github/DaKeZhang7412/CS5683-Assignment-4/blob/main/CS5683_Assignment_4_NeoZhang.ipynb\" target=\"_parent\"><img src=\"https://colab.research.google.com/assets/colab-badge.svg\" alt=\"Open In Colab\"/></a>"
      ]
    },
    {
      "cell_type": "markdown",
      "metadata": {
        "id": "M3eAoyJk_ruW"
      },
      "source": [
        "# CS 5683 - Big Data Analytics\n",
        "## Assignment - 4: Friend Recommendation"
      ]
    },
    {
      "cell_type": "code",
      "metadata": {
        "id": "2U7cjiFO_ruZ"
      },
      "source": [
        "import itertools\n",
        "import operator"
      ],
      "execution_count": 2,
      "outputs": []
    },
    {
      "cell_type": "markdown",
      "metadata": {
        "id": "xR8RPBMx_rub"
      },
      "source": [
        "### Assignment Total: 10 points (3% of final)"
      ]
    },
    {
      "cell_type": "raw",
      "metadata": {
        "id": "KXjGASPx_rub"
      },
      "source": [
        "In this assignment we will create a simple recommender engine that recommend friends based on number of mutual friends"
      ]
    },
    {
      "cell_type": "code",
      "metadata": {
        "id": "W_fAfmfK_ruc"
      },
      "source": [
        ""
      ],
      "execution_count": null,
      "outputs": []
    },
    {
      "cell_type": "markdown",
      "metadata": {
        "id": "zAn7pc0v_ruc"
      },
      "source": [
        "##### Comsider the following list as a simple matrix 'M' for all tasks of this assignment"
      ]
    },
    {
      "cell_type": "code",
      "metadata": {
        "id": "zZkAoyy1_rud"
      },
      "source": [
        "input_data = 'soc-LiveJournal1Adj.txt'"
      ],
      "execution_count": 3,
      "outputs": []
    },
    {
      "cell_type": "code",
      "metadata": {
        "id": "Qik8xmcn_rue"
      },
      "source": [
        "direct_friends = dict() # Stores directly connected friends\n",
        "\n",
        "# friend_recommendations stores user recommendations\n",
        "# It should be of type dict[dict]\n",
        "# Example-1: \n",
        "    # friend_recommendations[100][125] = 1 \n",
        "    # -- meaning that users 100 and 125 have 1 mutual friend\n",
        "    # In other words, 1 user has 100 and 125 as direct friends\n",
        "# Example-2: \n",
        "    # friend_recommendations[100][146] = 4 \n",
        "    # -- meaning that users 100 and 125 have 4 mutual friends\n",
        "    # In other words, 4 users have 100 and 146 as direct friends\n",
        "friend_recommendations = dict()\n",
        "\n",
        "fp = open(input_data,'r')\n",
        "\n",
        "count = 0\n",
        "\n",
        "# Iterate through the data once and fill direct_friends and friend_recommendations\n",
        "for line in fp:\n",
        "    line_split = line.split()\n",
        "    if len(line_split) == 2:\n",
        "        user = int(line_split[0])\n",
        "        friends = list(map(int, set(line_split[1].split(','))))\n",
        "        direct_friends[user] = friends\n",
        "        # print(user, list(direct_friends[user]))\n",
        "        # print(list(friends))\n",
        "        # Generate user pairs to identify friend recommendation\n",
        "        recommendations = list(itertools.combinations(direct_friends[user],2))\n",
        "        # print(sorted(recommendations))\n",
        "        \n",
        "        # switch pairs if recommendations[0] > recommendations[1]\n",
        "        if recommendations:\n",
        "          recommendations = sorted([(sub[1], sub[0]) if sub[0] > sub[1] else (sub[0], sub[1]) for sub in recommendations])\n",
        "\n",
        "        # Fill friend_recommendations below (3 POINTS)\n",
        "        for item in sorted(recommendations):\n",
        "          if item[0] not in friend_recommendations:\n",
        "            friend_recommendations[item[0]] = {item[1] : 1}\n",
        "          elif item[1] not in friend_recommendations[item[0]]:\n",
        "            friend_recommendations[item[0]][item[1]] = 1\n",
        "          else:\n",
        "            friend_recommendations[item[0]][item[1]] += 1\n",
        "\n",
        "fp.close()"
      ],
      "execution_count": 138,
      "outputs": []
    },
    {
      "cell_type": "code",
      "metadata": {
        "id": "OPW4ktgmmO6i"
      },
      "source": [
        "for userList in friend_recommendations.keys():\n",
        "  # if list(friend_recommendations[userList].values())[0] >1:\n",
        "    print(userList, list(friend_recommendations[userList].keys()), list(friend_recommendations[userList].values()))"
      ],
      "execution_count": null,
      "outputs": []
    },
    {
      "cell_type": "code",
      "metadata": {
        "colab": {
          "base_uri": "https://localhost:8080/"
        },
        "id": "A8acZU4Rq9rr",
        "outputId": "3e9110d9-9b4e-4c55-c33d-f54ccc4eb3f5"
      },
      "source": [
        "print(friend_recommendations[0])"
      ],
      "execution_count": 103,
      "outputs": [
        {
          "output_type": "stream",
          "name": "stdout",
          "text": [
            "2\n"
          ]
        }
      ]
    },
    {
      "cell_type": "code",
      "metadata": {
        "id": "GfNlvgpA5Kuk"
      },
      "source": [
        "# find user has friend.\n",
        "user_with_friends = list(direct_friends.keys())\n",
        "\n",
        "user_pairs = list(itertools.combinations(user_with_friends,2))\n",
        "user_pairs"
      ],
      "execution_count": null,
      "outputs": []
    },
    {
      "cell_type": "code",
      "metadata": {
        "id": "6_yUMYXETpws",
        "colab": {
          "base_uri": "https://localhost:8080/"
        },
        "outputId": "f48fb485-a72b-4a32-ee8d-88900542c230"
      },
      "source": [
        "\n",
        "for k in friend_recommendations.keys():\n",
        "    friend_recommendations[k] = dict(sorted(friend_recommendations[k].items(), key=operator.itemgetter(1),reverse=True))\n",
        "print(friend_recommendations)\n",
        "\n",
        "# friend_recommendations\n",
        "# sorted(friend_recommendations.values().items(), key=operator.itemgetter(1),reverse=True)"
      ],
      "execution_count": 19,
      "outputs": [
        {
          "output_type": "stream",
          "name": "stdout",
          "text": [
            "{}\n"
          ]
        }
      ]
    },
    {
      "cell_type": "code",
      "metadata": {
        "id": "HzZ6RgyVRR8S"
      },
      "source": [
        "dict(sorted(friend_recommendations.items(), key=lambda item: item[1]))\n",
        "sorted(res, key=lambda x: (float(x[1]), -float(x[2])))\n"
      ],
      "execution_count": null,
      "outputs": []
    },
    {
      "cell_type": "code",
      "metadata": {
        "colab": {
          "base_uri": "https://localhost:8080/"
        },
        "id": "NDKEYTFYdpru",
        "outputId": "0bb517ac-7d16-45be-a3b9-61566a449c74"
      },
      "source": [
        "print(list(direct_friends[95]))"
      ],
      "execution_count": 15,
      "outputs": [
        {
          "output_type": "stream",
          "name": "stdout",
          "text": [
            "[113, 130, 117, 127, 171, 106, 168, 177, 142, 191, 157, 151, 159, 119, 104, 156, 99, 123, 187, 179, 147, 194, 98, 129, 176, 114, 173, 132, 146, 126, 165, 107, 136, 154, 186, 189, 17, 109, 158, 174, 172, 164, 141, 108, 161, 178, 182, 100, 163, 160, 118, 166, 184, 140, 111, 175, 152, 185, 124, 96, 139, 149, 193, 134, 116, 167, 170, 138, 103, 110, 115, 137, 145, 188, 135, 133, 112, 183, 128, 125, 97, 155, 143, 181, 169, 150, 121, 148, 105, 180, 190, 131, 122, 144, 102, 192, 120, 153, 162, 101]\n"
          ]
        }
      ]
    },
    {
      "cell_type": "code",
      "metadata": {
        "id": "F81pwwHt1YsO"
      },
      "source": [
        "sorted(friend_recommendations.items(), reverse=True)"
      ],
      "execution_count": null,
      "outputs": []
    },
    {
      "cell_type": "code",
      "metadata": {
        "colab": {
          "base_uri": "https://localhost:8080/"
        },
        "id": "a8b742qqiqou",
        "outputId": "12dbb2b4-242d-46c7-dddc-c946447f4eda"
      },
      "source": [
        "list1 = [ 3, 4, 7 ]\n",
        "list2 = [ 5, 2, 3, 5,7, 4, 9 ]\n",
        "\n",
        "sum(x in list1 for x in list2)"
      ],
      "execution_count": null,
      "outputs": [
        {
          "output_type": "execute_result",
          "data": {
            "text/plain": [
              "3"
            ]
          },
          "metadata": {},
          "execution_count": 57
        }
      ]
    },
    {
      "cell_type": "code",
      "metadata": {
        "id": "1-W8PFlq_ruf"
      },
      "source": [
        "# Remove direct friends from friend_recommendations (2 POINTS)\n",
        "for user, value in friend_recommendations.items():\n",
        "  for secondUser in list(value.keys()):\n",
        "      if user in direct_friends[secondUser]:\n",
        "        # print(friend_recommendations[user][secondUser])\n",
        "        del friend_recommendations[user][secondUser]\n",
        "  y = len(friend_recommendations[user])\n"
      ],
      "execution_count": 139,
      "outputs": []
    },
    {
      "cell_type": "code",
      "metadata": {
        "id": "vLtlk0G9BdTI"
      },
      "source": [
        "recommendation ={   'Ritika': [5, 6,9,10,55,1,36,56,33,88,99,105,505,632,7],\n",
        "                    'Sam': [10,27], \n",
        "                    'John': [10, 9], \n",
        "                    'Aadi': []}\n",
        "recommendation['Ritika'][1]"
      ],
      "execution_count": null,
      "outputs": []
    },
    {
      "cell_type": "code",
      "metadata": {
        "colab": {
          "base_uri": "https://localhost:8080/"
        },
        "id": "-iyAqe3f4Trl",
        "outputId": "c17c55ec-7be7-4795-cd28-c5feceddebf2"
      },
      "source": [
        "a_dictionary = {\"b\": 2, \"c\": 3, \"a\": 1}\n",
        "\n",
        "dictionary_items = a_dictionary.items()\n",
        "\n",
        "sorted_items = sorted(dictionary_items)\n",
        "type(sorted_items)"
      ],
      "execution_count": 135,
      "outputs": [
        {
          "output_type": "execute_result",
          "data": {
            "text/plain": [
              "list"
            ]
          },
          "metadata": {},
          "execution_count": 135
        }
      ]
    },
    {
      "cell_type": "code",
      "metadata": {
        "id": "ic4ewIqC76RD"
      },
      "source": [
        "x = {1: 2, 3: 4, 4: 3, 2: 1, 0: 0}\n",
        "{k: v for k, v in sorted(x.items(), key=lambda item: item[1])}"
      ],
      "execution_count": null,
      "outputs": []
    },
    {
      "cell_type": "code",
      "metadata": {
        "colab": {
          "base_uri": "https://localhost:8080/"
        },
        "id": "kkEaXKPH_o1k",
        "outputId": "e22955a6-bbc5-49fb-95dc-00be4ce31f84"
      },
      "source": [
        "print(friend_recommendations[0])"
      ],
      "execution_count": 140,
      "outputs": [
        {
          "output_type": "stream",
          "name": "stdout",
          "text": [
            "{135: 2, 623: 2, 629: 1, 2409: 1, 4999: 1, 6156: 1, 8715: 1, 8932: 1, 10623: 1, 12347: 1, 12846: 2, 13840: 1, 13845: 1, 13912: 1, 14005: 1, 14248: 1, 15190: 1, 17636: 1, 19217: 1, 20074: 1, 20075: 1, 21556: 1, 22939: 3, 23520: 1, 27536: 1, 28193: 2, 29481: 1, 29724: 2, 29726: 1, 29767: 1, 29791: 2, 29826: 1, 30257: 2, 30691: 3, 31232: 2, 31435: 1, 32317: 2, 32489: 1, 33060: 1, 34250: 1, 34280: 2, 34392: 1, 34394: 2, 34406: 1, 34418: 1, 34420: 1, 34439: 1, 34450: 1, 34651: 1, 35589: 3, 35605: 1, 35606: 1, 35613: 1, 35633: 2, 35648: 1, 35678: 1, 38737: 5, 43447: 1, 44846: 2, 44887: 2, 45054: 1, 49226: 1, 49592: 1, 49985: 1, 117: 1, 1220: 1, 2755: 1, 6893: 1, 12453: 1, 13795: 1, 16659: 1, 24539: 1, 24714: 1, 32828: 2, 41456: 1, 41878: 1, 45046: 1, 49927: 1, 1532: 3, 12636: 2, 13185: 1, 27552: 1, 15326: 1, 19068: 1, 19079: 2, 24596: 1, 33269: 1, 38792: 1, 38822: 1, 42697: 2, 46126: 1, 2022: 1, 23527: 1, 31140: 1, 32503: 1, 41457: 1, 43262: 1, 49574: 2, 98: 1, 543: 2, 575: 1, 2203: 1, 3238: 2, 5040: 2, 8795: 1, 9843: 1, 9847: 1, 11879: 1, 12682: 1, 14943: 1, 15283: 1, 15294: 1, 17874: 1, 18286: 1, 18311: 1, 18320: 1, 18332: 1, 18560: 1, 18625: 1, 20553: 1, 25247: 1, 33080: 1, 34412: 1, 35699: 1, 35776: 1, 35785: 1, 35822: 1, 38736: 1, 38750: 1, 38800: 1, 42231: 1, 1357: 1, 21843: 1, 31993: 1, 40218: 1, 40433: 1, 24777: 1, 33380: 1, 6085: 2, 18972: 1, 19269: 1, 6027: 2, 13793: 1, 23557: 1, 29581: 1, 35477: 2, 35617: 1, 44310: 1, 1754: 1, 7789: 1, 11142: 1, 12633: 1, 17898: 1, 19049: 1, 22486: 1, 26970: 1, 27554: 1, 27585: 1, 27591: 1, 27679: 2, 29576: 1, 32631: 1, 34906: 1, 41444: 1, 1085: 1, 7714: 1, 13285: 2, 27655: 1, 29379: 1, 35195: 1, 43121: 1, 111: 1, 129: 1, 274: 1, 1383: 1, 1600: 1, 2141: 1, 7284: 2, 9172: 1, 12584: 1, 13207: 1, 16519: 1, 18122: 1, 19051: 2, 23525: 1, 25177: 1, 30071: 1, 32045: 1, 32064: 1, 33439: 1, 39022: 1, 44412: 1, 44575: 1, 47887: 1, 444: 1, 42748: 1, 9745: 2, 12570: 2, 15520: 2, 19010: 1, 19044: 2, 29319: 1, 30062: 1, 31337: 3, 95: 1, 128: 1, 134: 1, 150: 1, 6157: 1, 20016: 1, 20533: 1, 20599: 1, 29872: 1, 31347: 2, 42704: 1, 44505: 1, 49678: 3, 2406: 1, 2411: 1, 12562: 1, 439: 1, 627: 1, 1001: 1, 1100: 1, 1234: 1, 1343: 1, 1694: 1, 1705: 1, 2019: 1, 2062: 1, 2142: 1, 2324: 1, 2413: 1, 2644: 2, 2646: 1, 2648: 1, 2659: 1, 2678: 1, 3131: 1, 3298: 1, 3573: 1, 3574: 1, 3734: 1, 3748: 1, 3895: 1, 3926: 1, 3931: 1, 4990: 1, 4993: 1, 5170: 1, 5487: 1, 5490: 1, 5588: 1, 5685: 1, 6995: 1, 7463: 1, 7718: 1, 8703: 1, 8706: 1, 8768: 1, 9289: 1, 9735: 1, 9892: 1, 10175: 1, 10240: 1, 11399: 1, 11416: 1, 12313: 1, 12680: 1, 13076: 1, 13661: 1, 13829: 1, 13849: 1, 13951: 1, 14070: 1, 14160: 1, 14182: 1, 15186: 1, 15356: 1, 16027: 1, 17235: 1, 17438: 1, 18075: 1, 18147: 1, 18148: 1, 18163: 1, 18338: 1, 18977: 1, 19358: 1, 19388: 1, 19427: 1, 19430: 1, 19983: 1, 20070: 1, 20283: 1, 20290: 1, 20557: 1, 21822: 1, 21873: 1, 22357: 1, 22520: 1, 23202: 1, 23512: 1, 25195: 1, 25239: 1, 25256: 1, 26887: 1, 27736: 1, 27808: 1, 29260: 1, 35585: 1, 44824: 1, 47445: 1, 2426: 1, 2432: 1, 4717: 2, 17025: 1, 17032: 1, 17033: 2, 20379: 1, 24733: 1, 33760: 1, 38841: 1, 9436: 1, 30156: 2, 43400: 1, 23061: 2, 38774: 1, 46644: 1, 242: 1, 18071: 1, 13081: 1, 26402: 1, 34211: 4, 42972: 1, 44373: 1, 12647: 1, 18556: 1, 48041: 1, 573: 1, 1495: 1, 1841: 2, 6169: 2, 18591: 4, 19565: 1, 26358: 1, 26948: 1, 29688: 1, 29689: 1, 29693: 1, 29694: 1, 29697: 1, 29700: 1, 29707: 1, 29711: 1, 29714: 1, 30940: 2, 34235: 1, 34892: 2, 34905: 1, 41684: 1, 49247: 2, 2188: 1, 2246: 2, 10821: 1, 12561: 3, 15314: 1, 19130: 2, 22355: 1, 22649: 1, 23362: 1, 27383: 4, 27888: 2, 28775: 1, 34586: 1, 34875: 3, 34904: 2, 40158: 1, 40610: 1, 40688: 1, 40830: 1, 40866: 1, 44005: 1, 15317: 1, 16514: 2, 33540: 1, 19083: 1, 29251: 1, 38192: 2, 956: 1, 7323: 1, 8804: 1, 13117: 1, 17915: 1, 38782: 1, 41432: 1, 42001: 1, 2572: 1, 2914: 1, 7327: 1, 9983: 1, 17199: 1, 17203: 1, 43279: 1, 29521: 1, 4389: 1, 8737: 1, 8859: 1, 10790: 1, 13344: 1, 16163: 1, 16165: 1, 18843: 1, 24731: 1, 34957: 1, 38300: 1, 39500: 1, 15234: 1, 23717: 1, 23756: 1, 23762: 1, 23768: 1, 23780: 1, 23785: 1, 23792: 1, 23807: 1, 23830: 1, 9156: 1, 32042: 1, 32300: 1, 1388: 1, 9796: 1, 24851: 1, 33447: 1, 38813: 1, 42150: 1, 42695: 1, 125: 2, 8136: 2, 23156: 1, 25701: 1, 1196: 1, 1814: 1, 2006: 1, 2791: 1, 2897: 1, 3400: 1, 4264: 1, 5038: 1, 5148: 1, 9504: 1, 9822: 1, 12640: 1, 13650: 1, 13655: 1, 13889: 1, 14049: 1, 14391: 1, 14969: 1, 15285: 1, 17880: 3, 18283: 1, 18294: 1, 18581: 1, 18614: 1, 18654: 1, 19513: 1, 20567: 1, 20615: 1, 21163: 1, 21565: 1, 28332: 1, 29382: 1, 35533: 1, 38626: 1, 40300: 1, 40429: 1, 40472: 1, 41628: 3, 41767: 1, 42013: 1, 42699: 1, 43892: 1, 44359: 1, 46050: 1, 48736: 2, 6935: 1, 23040: 1, 33123: 1, 1244: 1, 1797: 1, 1890: 1, 2276: 1, 6019: 1, 6894: 1, 7261: 1, 13387: 1, 21077: 1, 22615: 2, 24619: 1, 24740: 1, 27388: 1, 47810: 1, 37953: 1, 32496: 1, 34517: 1, 34553: 1, 34762: 1, 38123: 1, 2561: 1, 33256: 1, 43137: 1, 6319: 1, 23556: 1, 33386: 1, 15289: 1, 24521: 1, 1845: 1, 1884: 1, 4818: 1, 14265: 1, 20209: 1, 30040: 1, 22773: 1, 11599: 1, 45011: 2, 1366: 1, 1394: 1, 24903: 1, 29577: 1, 30223: 1, 33212: 1, 33272: 1, 38302: 1, 337: 3, 339: 1, 352: 3, 371: 1, 451: 2, 1324: 1, 8135: 1, 8426: 1, 11839: 1, 12143: 3, 13112: 1, 13557: 1, 13596: 2, 17434: 1, 23297: 1, 24209: 1, 25212: 3, 29478: 1, 30324: 1, 32964: 1, 33198: 1, 33786: 3, 35442: 1, 43152: 2, 43515: 1, 46281: 1, 47681: 2, 48029: 3, 48908: 2, 343: 2, 663: 1, 23581: 1, 48844: 1, 19467: 1, 21295: 2, 28203: 1, 2905: 1, 9774: 1, 10383: 1, 14290: 1, 24773: 1, 40463: 1, 43173: 1, 41507: 1, 43380: 1, 1838: 1, 2533: 1, 6477: 1, 7527: 1, 9781: 1, 15486: 1, 17552: 1, 19745: 1, 26362: 1, 40448: 1, 47617: 1, 49616: 1, 450: 1, 2063: 1, 2084: 1, 2552: 1, 3894: 2, 5274: 1, 6479: 1, 6525: 1, 10185: 1, 13215: 1, 13915: 1, 19917: 1, 20561: 1, 21162: 1, 23718: 1, 25182: 1, 25210: 1, 25262: 1, 27597: 1, 32347: 1, 34870: 1, 35590: 1, 35992: 1, 42422: 1, 42426: 1, 42711: 1, 43004: 1, 43742: 1, 44357: 1, 44943: 1, 46291: 1, 101: 1, 2662: 1, 4778: 1, 24789: 1, 48865: 1, 12519: 1, 2580: 1, 14435: 1, 364: 1, 523: 1, 547: 1, 4032: 1, 8167: 1, 10498: 1, 10506: 2, 11867: 1, 12067: 1, 12195: 1, 14371: 1, 23384: 1, 30493: 1, 35752: 1, 39162: 1, 40427: 1, 42982: 1, 44492: 1, 44500: 1, 45987: 1, 341: 1, 3503: 1, 3887: 1, 13578: 1, 33693: 1, 39738: 1, 43123: 1, 46781: 1, 1673: 1, 4839: 1, 5404: 1, 5957: 2, 9825: 1, 11865: 1, 12327: 1, 13495: 1, 13664: 1, 13712: 1, 15860: 1, 16796: 1, 18588: 1, 22089: 1, 23165: 1, 24226: 1, 27881: 1, 28611: 1, 31932: 1, 38827: 1, 40700: 1, 40995: 1, 476: 1, 962: 1, 1026: 1, 1029: 1, 1052: 1, 1078: 1, 1083: 1, 1084: 1, 1088: 1, 1113: 1, 1150: 1, 2215: 1, 2239: 1, 2641: 1, 2656: 1, 2657: 1, 3030: 1, 3458: 1, 3494: 1, 3736: 1, 3876: 1, 4143: 1, 4579: 1, 5438: 1, 5519: 1, 5561: 1, 5928: 1, 6541: 1, 6783: 1, 7299: 1, 7729: 1, 7858: 1, 8335: 1, 8667: 1, 8671: 1, 8774: 1, 8858: 1, 9166: 1, 9171: 1, 9639: 1, 9912: 1, 9995: 1, 9997: 1, 9998: 1, 9999: 1, 10001: 1, 10014: 1, 10018: 1, 10020: 1, 10023: 1, 10025: 1, 10038: 1, 10041: 1, 10042: 1, 10045: 1, 10048: 1, 10055: 1, 10058: 1, 10059: 1, 10063: 1, 10066: 1, 10077: 1, 10086: 1, 10089: 1, 10090: 1, 10099: 1, 10106: 1, 10108: 1, 10116: 1, 10130: 1, 10131: 1, 10775: 1, 10976: 1, 11008: 1, 13656: 1, 13792: 1, 13870: 1, 13882: 1, 14240: 1, 14372: 1, 14794: 1, 14857: 1, 15278: 1, 15354: 1, 15741: 1, 16324: 1, 16691: 1, 16706: 1, 16714: 1, 17290: 1, 17328: 1, 17519: 1, 17634: 1, 17975: 1, 18008: 1, 1417: 1, 2252: 1, 2255: 1, 9811: 1, 12577: 1, 15521: 1, 27392: 1, 35546: 1, 35778: 1, 40721: 1, 45418: 1, 696: 1, 728: 1, 758: 1, 783: 1, 795: 1, 1317: 1, 4053: 1, 7306: 1, 12597: 1, 13580: 1, 14318: 1, 15646: 1, 17503: 1, 17801: 1, 17995: 1, 18198: 1, 19974: 1, 20456: 1, 20488: 1, 20489: 1, 22626: 1, 24203: 1, 24208: 1, 24212: 1, 24218: 1, 24227: 1, 24235: 1, 24243: 1, 24249: 1, 24335: 1, 24616: 1, 28731: 1, 28862: 1, 29594: 1, 29612: 1, 30229: 1, 33051: 1, 38039: 1, 38743: 1, 40808: 1, 41975: 1, 43069: 1, 44570: 1, 49679: 1}\n"
          ]
        }
      ]
    },
    {
      "cell_type": "code",
      "metadata": {
        "colab": {
          "base_uri": "https://localhost:8080/",
          "height": 292
        },
        "id": "vxd23gLs2jBM",
        "outputId": "1eb16748-3c43-44a8-b12d-6e8fd20fbf89"
      },
      "source": [
        "for user, value in friend_recommendations.items():\n",
        "  for secondUser in list(value.keys()):\n",
        "    {k: v for k, v in sorted(friend_recommendations[user].items(), key=lambda item: item[1])}"
      ],
      "execution_count": 137,
      "outputs": [
        {
          "output_type": "error",
          "ename": "KeyboardInterrupt",
          "evalue": "ignored",
          "traceback": [
            "\u001b[0;31m---------------------------------------------------------------------------\u001b[0m",
            "\u001b[0;31mKeyboardInterrupt\u001b[0m                         Traceback (most recent call last)",
            "\u001b[0;32m<ipython-input-137-52abf3598667>\u001b[0m in \u001b[0;36m<module>\u001b[0;34m()\u001b[0m\n\u001b[1;32m      1\u001b[0m \u001b[0;32mfor\u001b[0m \u001b[0muser\u001b[0m\u001b[0;34m,\u001b[0m \u001b[0mvalue\u001b[0m \u001b[0;32min\u001b[0m \u001b[0mfriend_recommendations\u001b[0m\u001b[0;34m.\u001b[0m\u001b[0mitems\u001b[0m\u001b[0;34m(\u001b[0m\u001b[0;34m)\u001b[0m\u001b[0;34m:\u001b[0m\u001b[0;34m\u001b[0m\u001b[0;34m\u001b[0m\u001b[0m\n\u001b[1;32m      2\u001b[0m   \u001b[0;32mfor\u001b[0m \u001b[0msecondUser\u001b[0m \u001b[0;32min\u001b[0m \u001b[0mlist\u001b[0m\u001b[0;34m(\u001b[0m\u001b[0mvalue\u001b[0m\u001b[0;34m.\u001b[0m\u001b[0mkeys\u001b[0m\u001b[0;34m(\u001b[0m\u001b[0;34m)\u001b[0m\u001b[0;34m)\u001b[0m\u001b[0;34m:\u001b[0m\u001b[0;34m\u001b[0m\u001b[0;34m\u001b[0m\u001b[0m\n\u001b[0;32m----> 3\u001b[0;31m     \u001b[0;34m{\u001b[0m\u001b[0mk\u001b[0m\u001b[0;34m:\u001b[0m \u001b[0mv\u001b[0m \u001b[0;32mfor\u001b[0m \u001b[0mk\u001b[0m\u001b[0;34m,\u001b[0m \u001b[0mv\u001b[0m \u001b[0;32min\u001b[0m \u001b[0msorted\u001b[0m\u001b[0;34m(\u001b[0m\u001b[0mfriend_recommendations\u001b[0m\u001b[0;34m[\u001b[0m\u001b[0muser\u001b[0m\u001b[0;34m]\u001b[0m\u001b[0;34m.\u001b[0m\u001b[0mitems\u001b[0m\u001b[0;34m(\u001b[0m\u001b[0;34m)\u001b[0m\u001b[0;34m,\u001b[0m \u001b[0mkey\u001b[0m\u001b[0;34m=\u001b[0m\u001b[0;32mlambda\u001b[0m \u001b[0mitem\u001b[0m\u001b[0;34m:\u001b[0m \u001b[0mitem\u001b[0m\u001b[0;34m[\u001b[0m\u001b[0;36m1\u001b[0m\u001b[0;34m]\u001b[0m\u001b[0;34m)\u001b[0m\u001b[0;34m}\u001b[0m\u001b[0;34m\u001b[0m\u001b[0;34m\u001b[0m\u001b[0m\n\u001b[0m",
            "\u001b[0;32m<ipython-input-137-52abf3598667>\u001b[0m in \u001b[0;36m<dictcomp>\u001b[0;34m(.0)\u001b[0m\n\u001b[1;32m      1\u001b[0m \u001b[0;32mfor\u001b[0m \u001b[0muser\u001b[0m\u001b[0;34m,\u001b[0m \u001b[0mvalue\u001b[0m \u001b[0;32min\u001b[0m \u001b[0mfriend_recommendations\u001b[0m\u001b[0;34m.\u001b[0m\u001b[0mitems\u001b[0m\u001b[0;34m(\u001b[0m\u001b[0;34m)\u001b[0m\u001b[0;34m:\u001b[0m\u001b[0;34m\u001b[0m\u001b[0;34m\u001b[0m\u001b[0m\n\u001b[1;32m      2\u001b[0m   \u001b[0;32mfor\u001b[0m \u001b[0msecondUser\u001b[0m \u001b[0;32min\u001b[0m \u001b[0mlist\u001b[0m\u001b[0;34m(\u001b[0m\u001b[0mvalue\u001b[0m\u001b[0;34m.\u001b[0m\u001b[0mkeys\u001b[0m\u001b[0;34m(\u001b[0m\u001b[0;34m)\u001b[0m\u001b[0;34m)\u001b[0m\u001b[0;34m:\u001b[0m\u001b[0;34m\u001b[0m\u001b[0;34m\u001b[0m\u001b[0m\n\u001b[0;32m----> 3\u001b[0;31m     \u001b[0;34m{\u001b[0m\u001b[0mk\u001b[0m\u001b[0;34m:\u001b[0m \u001b[0mv\u001b[0m \u001b[0;32mfor\u001b[0m \u001b[0mk\u001b[0m\u001b[0;34m,\u001b[0m \u001b[0mv\u001b[0m \u001b[0;32min\u001b[0m \u001b[0msorted\u001b[0m\u001b[0;34m(\u001b[0m\u001b[0mfriend_recommendations\u001b[0m\u001b[0;34m[\u001b[0m\u001b[0muser\u001b[0m\u001b[0;34m]\u001b[0m\u001b[0;34m.\u001b[0m\u001b[0mitems\u001b[0m\u001b[0;34m(\u001b[0m\u001b[0;34m)\u001b[0m\u001b[0;34m,\u001b[0m \u001b[0mkey\u001b[0m\u001b[0;34m=\u001b[0m\u001b[0;32mlambda\u001b[0m \u001b[0mitem\u001b[0m\u001b[0;34m:\u001b[0m \u001b[0mitem\u001b[0m\u001b[0;34m[\u001b[0m\u001b[0;36m1\u001b[0m\u001b[0;34m]\u001b[0m\u001b[0;34m)\u001b[0m\u001b[0;34m}\u001b[0m\u001b[0;34m\u001b[0m\u001b[0;34m\u001b[0m\u001b[0m\n\u001b[0m",
            "\u001b[0;31mKeyboardInterrupt\u001b[0m: "
          ]
        }
      ]
    },
    {
      "cell_type": "code",
      "metadata": {
        "id": "ll9NGktF_rug",
        "colab": {
          "base_uri": "https://localhost:8080/",
          "height": 203
        },
        "outputId": "4cbdf1e4-c2b3-4bd7-a984-3734c9e56b59"
      },
      "source": [
        "# Sort recommendations based on number of mutual friends and user IDs here... (3 POINTS)\n",
        "for keys, values in friend_recommendations.items():\n",
        "  values.sort(reverse=True) if len(values) < 10 else values.sort()"
      ],
      "execution_count": 123,
      "outputs": [
        {
          "output_type": "error",
          "ename": "NameError",
          "evalue": "ignored",
          "traceback": [
            "\u001b[0;31m---------------------------------------------------------------------------\u001b[0m",
            "\u001b[0;31mNameError\u001b[0m                                 Traceback (most recent call last)",
            "\u001b[0;32m<ipython-input-123-a7fddc15e1e9>\u001b[0m in \u001b[0;36m<module>\u001b[0;34m()\u001b[0m\n\u001b[1;32m      1\u001b[0m \u001b[0;31m# Sort recommendations based on number of mutual friends and user IDs here... (3 POINTS)\u001b[0m\u001b[0;34m\u001b[0m\u001b[0;34m\u001b[0m\u001b[0;34m\u001b[0m\u001b[0m\n\u001b[0;32m----> 2\u001b[0;31m \u001b[0;32mfor\u001b[0m \u001b[0mvalues\u001b[0m \u001b[0;32min\u001b[0m \u001b[0mrecommendation\u001b[0m\u001b[0;34m.\u001b[0m\u001b[0mvalues\u001b[0m\u001b[0;34m(\u001b[0m\u001b[0;34m)\u001b[0m\u001b[0;34m:\u001b[0m\u001b[0;34m\u001b[0m\u001b[0;34m\u001b[0m\u001b[0m\n\u001b[0m\u001b[1;32m      3\u001b[0m   \u001b[0mvalues\u001b[0m\u001b[0;34m.\u001b[0m\u001b[0msort\u001b[0m\u001b[0;34m(\u001b[0m\u001b[0mreverse\u001b[0m\u001b[0;34m=\u001b[0m\u001b[0;32mTrue\u001b[0m\u001b[0;34m)\u001b[0m \u001b[0;32mif\u001b[0m \u001b[0mlen\u001b[0m\u001b[0;34m(\u001b[0m\u001b[0mvalues\u001b[0m\u001b[0;34m)\u001b[0m \u001b[0;34m<\u001b[0m \u001b[0;36m10\u001b[0m \u001b[0;32melse\u001b[0m \u001b[0mvalues\u001b[0m\u001b[0;34m.\u001b[0m\u001b[0msort\u001b[0m\u001b[0;34m(\u001b[0m\u001b[0;34m)\u001b[0m\u001b[0;34m\u001b[0m\u001b[0;34m\u001b[0m\u001b[0m\n",
            "\u001b[0;31mNameError\u001b[0m: name 'recommendation' is not defined"
          ]
        }
      ]
    },
    {
      "cell_type": "code",
      "metadata": {
        "colab": {
          "base_uri": "https://localhost:8080/"
        },
        "id": "V--zaTvj_rug",
        "outputId": "975fe89e-ebbf-4db6-e85e-40ac1ea7c777"
      },
      "source": [
        "# Print recommendations of users 924, 1153, 6712, 8213, 12835, 23478 here (2 POINTS)\n",
        "\n",
        "for key, values in recommendation.items():\n",
        "  # values.sort(reverse=True)\n",
        "  print(key, ':', ', '.join(map(str,values[:10])))"
      ],
      "execution_count": null,
      "outputs": [
        {
          "output_type": "stream",
          "name": "stdout",
          "text": [
            "Ritika : 1, 5, 6, 7, 9, 10, 33, 36, 55, 56\n",
            "Sam : 27, 10\n",
            "John : 10, 9\n",
            "Aadi : \n"
          ]
        }
      ]
    },
    {
      "cell_type": "code",
      "metadata": {
        "scrolled": true,
        "id": "-94gCvoz_ruh"
      },
      "source": [
        ""
      ],
      "execution_count": null,
      "outputs": []
    },
    {
      "cell_type": "code",
      "metadata": {
        "id": "Qz-5EtvX_ruh"
      },
      "source": [
        "# Sample recommendation\n",
        "# 11: 27552, 7785, 27573, 27574, 27589, 27590, 27600, 27617, 27620, 27667"
      ],
      "execution_count": null,
      "outputs": []
    }
  ]
}