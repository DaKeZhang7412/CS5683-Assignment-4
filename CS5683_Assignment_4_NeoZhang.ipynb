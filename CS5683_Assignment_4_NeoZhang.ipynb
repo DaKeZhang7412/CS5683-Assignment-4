{
  "nbformat": 4,
  "nbformat_minor": 0,
  "metadata": {
    "kernelspec": {
      "display_name": "Python 3",
      "language": "python",
      "name": "python3"
    },
    "language_info": {
      "codemirror_mode": {
        "name": "ipython",
        "version": 3
      },
      "file_extension": ".py",
      "mimetype": "text/x-python",
      "name": "python",
      "nbconvert_exporter": "python",
      "pygments_lexer": "ipython3",
      "version": "3.7.4"
    },
    "colab": {
      "name": "CS5683_Assignment-4_NeoZhang.ipynb",
      "provenance": [],
      "collapsed_sections": [],
      "include_colab_link": true
    }
  },
  "cells": [
    {
      "cell_type": "markdown",
      "metadata": {
        "id": "view-in-github",
        "colab_type": "text"
      },
      "source": [
        "<a href=\"https://colab.research.google.com/github/DaKeZhang7412/CS5683-Assignment-4/blob/main/CS5683_Assignment_4_NeoZhang.ipynb\" target=\"_parent\"><img src=\"https://colab.research.google.com/assets/colab-badge.svg\" alt=\"Open In Colab\"/></a>"
      ]
    },
    {
      "cell_type": "markdown",
      "metadata": {
        "id": "M3eAoyJk_ruW"
      },
      "source": [
        "# CS 5683 - Big Data Analytics\n",
        "## Assignment - 4: Friend Recommendation"
      ]
    },
    {
      "cell_type": "code",
      "metadata": {
        "id": "2U7cjiFO_ruZ"
      },
      "source": [
        "import itertools\n",
        "import operator"
      ],
      "execution_count": 1,
      "outputs": []
    },
    {
      "cell_type": "markdown",
      "metadata": {
        "id": "xR8RPBMx_rub"
      },
      "source": [
        "### Assignment Total: 10 points (3% of final)"
      ]
    },
    {
      "cell_type": "raw",
      "metadata": {
        "id": "KXjGASPx_rub"
      },
      "source": [
        "In this assignment we will create a simple recommender engine that recommend friends based on number of mutual friends"
      ]
    },
    {
      "cell_type": "code",
      "metadata": {
        "id": "W_fAfmfK_ruc"
      },
      "source": [
        ""
      ],
      "execution_count": null,
      "outputs": []
    },
    {
      "cell_type": "markdown",
      "metadata": {
        "id": "zAn7pc0v_ruc"
      },
      "source": [
        "##### Comsider the following list as a simple matrix 'M' for all tasks of this assignment"
      ]
    },
    {
      "cell_type": "code",
      "metadata": {
        "id": "zZkAoyy1_rud"
      },
      "source": [
        "input_data = 'soc-LiveJournal1Adj.txt'"
      ],
      "execution_count": 2,
      "outputs": []
    },
    {
      "cell_type": "code",
      "metadata": {
        "id": "Qik8xmcn_rue"
      },
      "source": [
        "direct_friends = dict() # Stores directly connected friends\n",
        "\n",
        "# friend_recommendations stores user recommendations\n",
        "# It should be of type dict[dict]\n",
        "# Example-1: \n",
        "    # friend_recommendations[100][125] = 1 \n",
        "    # -- meaning that users 100 and 125 have 1 mutual friend\n",
        "    # In other words, 1 user has 100 and 125 as direct friends\n",
        "# Example-2: \n",
        "    # friend_recommendations[100][146] = 4 \n",
        "    # -- meaning that users 100 and 125 have 4 mutual friends\n",
        "    # In other words, 4 users have 100 and 146 as direct friends\n",
        "friend_recommendations = dict()\n",
        "\n",
        "fp = open(input_data,'r')\n",
        "\n",
        "count = 0\n",
        "\n",
        "# Iterate through the data once and fill direct_friends and friend_recommendations\n",
        "for line in fp:\n",
        "    line_split = line.split()\n",
        "    if len(line_split) == 2:\n",
        "        user = int(line_split[0])\n",
        "        friends = list(map(int, set(line_split[1].split(','))))\n",
        "        direct_friends[user] = friends\n",
        "        # print(user, list(direct_friends[user]))\n",
        "        # print(list(friends))\n",
        "        # Generate user pairs to identify friend recommendation\n",
        "        recommendations = list(itertools.combinations(direct_friends[user],2))\n",
        "        # print(sorted(recommendations))\n",
        "        \n",
        "        # switch pairs if recommendations[0] > recommendations[1]\n",
        "        if recommendations:\n",
        "          recommendations = sorted([(sub[1], sub[0]) if sub[0] > sub[1] else (sub[0], sub[1]) for sub in recommendations])\n",
        "\n",
        "        # Fill friend_recommendations below (3 POINTS)\n",
        "        for item in sorted(recommendations):\n",
        "          if item[0] not in friend_recommendations:\n",
        "            friend_recommendations[item[0]] = {item[1] : 1}\n",
        "          elif item[1] not in friend_recommendations[item[0]]:\n",
        "            friend_recommendations[item[0]][item[1]] = 1\n",
        "          else:\n",
        "            friend_recommendations[item[0]][item[1]] += 1\n",
        "\n",
        "fp.close()"
      ],
      "execution_count": 3,
      "outputs": []
    },
    {
      "cell_type": "code",
      "metadata": {
        "id": "OPW4ktgmmO6i"
      },
      "source": [
        "for userList in friend_recommendations.keys():\n",
        "  # if list(friend_recommendations[userList].values())[0] >1:\n",
        "    print(userList, list(friend_recommendations[userList].keys()), list(friend_recommendations[userList].values()))"
      ],
      "execution_count": null,
      "outputs": []
    },
    {
      "cell_type": "code",
      "metadata": {
        "colab": {
          "base_uri": "https://localhost:8080/"
        },
        "id": "A8acZU4Rq9rr",
        "outputId": "3e9110d9-9b4e-4c55-c33d-f54ccc4eb3f5"
      },
      "source": [
        "print(friend_recommendations[0])"
      ],
      "execution_count": null,
      "outputs": [
        {
          "output_type": "stream",
          "name": "stdout",
          "text": [
            "2\n"
          ]
        }
      ]
    },
    {
      "cell_type": "code",
      "metadata": {
        "id": "GfNlvgpA5Kuk"
      },
      "source": [
        "# find user has friend.\n",
        "user_with_friends = list(direct_friends.keys())\n",
        "\n",
        "user_pairs = list(itertools.combinations(user_with_friends,2))\n",
        "user_pairs"
      ],
      "execution_count": null,
      "outputs": []
    },
    {
      "cell_type": "code",
      "metadata": {
        "id": "6_yUMYXETpws",
        "colab": {
          "base_uri": "https://localhost:8080/"
        },
        "outputId": "f48fb485-a72b-4a32-ee8d-88900542c230"
      },
      "source": [
        "\n",
        "for k in friend_recommendations.keys():\n",
        "    friend_recommendations[k] = dict(sorted(friend_recommendations[k].items(), key=operator.itemgetter(1),reverse=True))\n",
        "print(friend_recommendations)\n",
        "\n",
        "# friend_recommendations\n",
        "# sorted(friend_recommendations.values().items(), key=operator.itemgetter(1),reverse=True)"
      ],
      "execution_count": null,
      "outputs": [
        {
          "output_type": "stream",
          "name": "stdout",
          "text": [
            "{}\n"
          ]
        }
      ]
    },
    {
      "cell_type": "code",
      "metadata": {
        "id": "HzZ6RgyVRR8S"
      },
      "source": [
        "# dict(sorted(friend_recommendations.items(), key=lambda item: item[1]))\n",
        "sorted(res, key=lambda x: (float(x[1]), -float(x[2])))\n"
      ],
      "execution_count": null,
      "outputs": []
    },
    {
      "cell_type": "code",
      "metadata": {
        "colab": {
          "base_uri": "https://localhost:8080/"
        },
        "id": "NDKEYTFYdpru",
        "outputId": "0bb517ac-7d16-45be-a3b9-61566a449c74"
      },
      "source": [
        "print(list(direct_friends[95]))"
      ],
      "execution_count": null,
      "outputs": [
        {
          "output_type": "stream",
          "name": "stdout",
          "text": [
            "[113, 130, 117, 127, 171, 106, 168, 177, 142, 191, 157, 151, 159, 119, 104, 156, 99, 123, 187, 179, 147, 194, 98, 129, 176, 114, 173, 132, 146, 126, 165, 107, 136, 154, 186, 189, 17, 109, 158, 174, 172, 164, 141, 108, 161, 178, 182, 100, 163, 160, 118, 166, 184, 140, 111, 175, 152, 185, 124, 96, 139, 149, 193, 134, 116, 167, 170, 138, 103, 110, 115, 137, 145, 188, 135, 133, 112, 183, 128, 125, 97, 155, 143, 181, 169, 150, 121, 148, 105, 180, 190, 131, 122, 144, 102, 192, 120, 153, 162, 101]\n"
          ]
        }
      ]
    },
    {
      "cell_type": "code",
      "metadata": {
        "colab": {
          "base_uri": "https://localhost:8080/"
        },
        "id": "YGDIUH7-Ce_N",
        "outputId": "7c737931-5b57-4966-cec7-b3ad977dc28b"
      },
      "source": [
        "import operator\n",
        "\n",
        "dict1 = {1: 1, 2: 9, 3: 4}\n",
        "sorted_tuples = sorted(dict1.items(), key=operator.itemgetter(1),reverse=True)\n",
        "print(sorted_tuples)  # [(1, 1), (3, 4), (2, 9)]\n",
        "sorted_dict = {k: v for k, v in sorted_tuples}\n",
        "\n",
        "print(sorted_dict) # {1: 1, 3: 4, 2: 9}"
      ],
      "execution_count": null,
      "outputs": [
        {
          "output_type": "stream",
          "name": "stdout",
          "text": [
            "[(2, 9), (3, 4), (1, 1)]\n",
            "{2: 9, 3: 4, 1: 1}\n"
          ]
        }
      ]
    },
    {
      "cell_type": "code",
      "metadata": {
        "id": "go3eSLp-L9Wy"
      },
      "source": [
        "friend_recommendations[0]"
      ],
      "execution_count": null,
      "outputs": []
    },
    {
      "cell_type": "code",
      "metadata": {
        "id": "1-W8PFlq_ruf"
      },
      "source": [
        "# Remove direct friends from friend_recommendations (2 POINTS)\n",
        "for user, value in friend_recommendations.items():\n",
        "  for secondUser in list(value.keys()):\n",
        "      if user in direct_friends[secondUser]:\n",
        "        del friend_recommendations[user][secondUser]"
      ],
      "execution_count": null,
      "outputs": []
    },
    {
      "cell_type": "code",
      "metadata": {
        "id": "SSo_UMhvNgmB"
      },
      "source": [
        "friend_recommendations[1]"
      ],
      "execution_count": null,
      "outputs": []
    },
    {
      "cell_type": "code",
      "metadata": {
        "colab": {
          "base_uri": "https://localhost:8080/"
        },
        "id": "UJPzf6RUOVrZ",
        "outputId": "4a97cb19-9010-42c3-94aa-63dab7ab88c4"
      },
      "source": [
        "d1 = {1: 1, 2: 9, 3: 4}\n",
        "\n",
        "d2 = {1: {1: 4, 2: 5, 3: 10}, \n",
        "      2: {7: 13, 8: 14, 9: 15, 10: 16, 11: 17, 12: 18}}\n",
        "\n",
        "for keys in d2.keys():\n",
        "  # new_dict={}\n",
        "  # d = {k: v for k, v in sorted(friend_recommendations[key].items(), key=lambda item: item[1])}\n",
        "  new_dict = {k: v for k, v in sorted(d2[keys].items(), key=operator.itemgetter(1), reverse=True)}  \n",
        "  d2[keys] = new_dict\n",
        "  # if key == 36:\n",
        "    # print(t[key])\n",
        "  print(keys, d2[keys])\n",
        "print(d2)"
      ],
      "execution_count": 6,
      "outputs": [
        {
          "output_type": "stream",
          "name": "stdout",
          "text": [
            "1 {3: 10, 2: 5, 1: 4}\n",
            "2 {12: 18, 11: 17, 10: 16, 9: 15, 8: 14, 7: 13}\n",
            "{1: {3: 10, 2: 5, 1: 4}, 2: {12: 18, 11: 17, 10: 16, 9: 15, 8: 14, 7: 13}}\n"
          ]
        }
      ]
    },
    {
      "cell_type": "code",
      "metadata": {
        "id": "F81pwwHt1YsO",
        "colab": {
          "base_uri": "https://localhost:8080/"
        },
        "outputId": "98d598b1-c552-410e-b5fc-3d5bc60276bf"
      },
      "source": [
        "\n",
        "for key in friend_recommendations.keys():\n",
        "  new_dict = {k: v for k, v in sorted(friend_recommendations[key].items(), key=operator.itemgetter(1), reverse=True)}  \n",
        "  friend_recommendations[key] = new_dict"
      ],
      "execution_count": 5,
      "outputs": [
        {
          "output_type": "stream",
          "name": "stdout",
          "text": [
            "{41087: 3, 5: 2, 95: 2, 112: 2, 3233: 2, 11165: 2, 13801: 2, 13832: 2, 18163: 2, 19032: 2, 19091: 2, 19114: 2, 19992: 2, 23597: 2, 24568: 2, 41440: 2, 42704: 2, 43149: 2, 13792: 2, 1085: 2, 2411: 2, 4875: 2, 12973: 2, 14052: 2, 1404: 2, 34340: 2, 3: 1, 4: 1, 6: 1, 7: 1, 8: 1, 9: 1, 10: 1, 11: 1, 12: 1, 13: 1, 14: 1, 15: 1, 16: 1, 17: 1, 18: 1, 19: 1, 20: 1, 21: 1, 22: 1, 23: 1, 24: 1, 25: 1, 26: 1, 27: 1, 28: 1, 29: 1, 30: 1, 31: 1, 32: 1, 33: 1, 34: 1, 35: 1, 36: 1, 37: 1, 38: 1, 39: 1, 40: 1, 41: 1, 42: 1, 43: 1, 44: 1, 45: 1, 46: 1, 47: 1, 48: 1, 49: 1, 50: 1, 51: 1, 52: 1, 53: 1, 54: 1, 55: 1, 56: 1, 57: 1, 58: 1, 59: 1, 60: 1, 61: 1, 62: 1, 63: 1, 64: 1, 65: 1, 66: 1, 67: 1, 68: 1, 69: 1, 70: 1, 71: 1, 72: 1, 73: 1, 74: 1, 75: 1, 76: 1, 77: 1, 78: 1, 79: 1, 80: 1, 81: 1, 82: 1, 83: 1, 84: 1, 85: 1, 86: 1, 87: 1, 88: 1, 89: 1, 90: 1, 91: 1, 92: 1, 93: 1, 94: 1, 117: 1, 13845: 1, 19095: 1, 130: 1, 135: 1, 14027: 1, 14165: 1, 19063: 1, 20458: 1, 22312: 1, 23519: 1, 24611: 1, 34218: 1, 34226: 1, 34299: 1, 34464: 1, 35834: 1, 45161: 1, 168: 1, 366: 1, 367: 1, 371: 1, 394: 1, 529: 1, 660: 1, 918: 1, 1088: 1, 1113: 1, 1156: 1, 1615: 1, 1657: 1, 1694: 1, 1807: 1, 1939: 1, 1977: 1, 1986: 1, 2139: 1, 2430: 1, 2626: 1, 2656: 1, 2686: 1, 2905: 1, 3879: 1, 3926: 1, 3931: 1, 3938: 1, 3960: 1, 4049: 1, 4074: 1, 4166: 1, 4173: 1, 4222: 1, 4782: 1, 5114: 1, 5153: 1, 5158: 1, 5165: 1, 5197: 1, 6038: 1, 6103: 1, 6212: 1, 6338: 1, 6634: 1, 6671: 1, 6893: 1, 6996: 1, 7269: 1, 7272: 1, 7299: 1, 7769: 1, 7783: 1, 7786: 1, 8069: 1, 8334: 1, 8446: 1, 8492: 1, 8592: 1, 8685: 1, 8815: 1, 8999: 1, 9154: 1, 9448: 1, 9542: 1, 9892: 1, 10023: 1, 10058: 1, 10862: 1, 10924: 1, 10986: 1, 11551: 1, 12422: 1, 12447: 1, 12465: 1, 12536: 1, 12689: 1, 12714: 1, 12749: 1, 12766: 1, 13810: 1, 13837: 1, 13847: 1, 14018: 1, 14444: 1, 14514: 1, 14598: 1, 14665: 1, 15145: 1, 15192: 1, 15348: 1, 15359: 1, 15508: 1, 16032: 1, 2747: 1, 2748: 1, 2749: 1, 2757: 1, 2758: 1, 2765: 1, 2781: 1, 4994: 1, 35595: 1, 49927: 1, 1250: 1, 1355: 1, 1371: 1, 1379: 1, 1380: 1, 1381: 1, 1384: 1, 1390: 1, 1392: 1, 1393: 1, 1396: 1, 1399: 1, 1405: 1, 1410: 1, 1415: 1, 1416: 1, 1422: 1, 1431: 1, 1435: 1, 1484: 1, 1485: 1, 1486: 1, 2242: 1, 6169: 1, 6515: 1, 6918: 1, 6935: 1, 6956: 1, 7012: 1, 8388: 1, 9796: 1, 11120: 1, 12450: 1, 12468: 1, 13176: 1, 15594: 1, 18309: 1, 20619: 1, 21271: 1, 22648: 1, 23761: 1, 23780: 1, 23810: 1, 25279: 1, 26901: 1, 26909: 1, 26910: 1, 26975: 1, 29305: 1, 29575: 1, 32456: 1, 35861: 1, 38038: 1, 39492: 1, 44892: 1, 47654: 1, 24510: 1, 24733: 1, 27909: 1, 2037: 1, 4516: 1, 7266: 1, 17200: 1, 23520: 1, 24541: 1, 2644: 1, 2857: 1, 3886: 1, 4717: 1, 13616: 1, 19509: 1, 22488: 1, 25186: 1, 25834: 1, 29771: 1, 32294: 1, 32310: 1, 33079: 1, 34822: 1, 35571: 1, 38011: 1, 40925: 1, 42055: 1, 43215: 1, 43342: 1, 43482: 1, 48207: 1, 49584: 1, 1758: 1, 6923: 1, 6951: 1, 45009: 1, 47741: 1, 128: 1, 2755: 1, 6152: 1, 12628: 1, 16875: 1, 24642: 1, 26954: 1, 41766: 1, 49896: 1, 49899: 1, 49900: 1, 49902: 1, 49916: 1, 49928: 1, 49931: 1, 49938: 1, 49940: 1, 49951: 1, 49958: 1, 49959: 1, 49961: 1, 49970: 1, 49986: 1, 49987: 1, 49988: 1, 439: 1, 543: 1, 975: 1, 1001: 1, 1617: 1, 1689: 1, 2413: 1, 2720: 1, 2855: 1, 3298: 1, 3734: 1, 3883: 1, 4190: 1, 4198: 1, 4264: 1, 4296: 1, 5013: 1, 5143: 1, 6804: 1, 7242: 1, 7342: 1, 7506: 1, 8364: 1, 8677: 1, 8686: 1, 8760: 1, 8900: 1, 9166: 1, 9181: 1, 10352: 1, 11387: 1, 11395: 1, 11396: 1, 12693: 1, 13478: 1, 14309: 1, 14930: 1, 16584: 1, 18573: 1, 19049: 1, 19388: 1, 19996: 1, 20280: 1, 20343: 1, 21873: 1, 22091: 1, 22355: 1, 23305: 1, 23616: 1, 25256: 1, 27086: 1, 28635: 1, 28972: 1, 29454: 1, 30062: 1, 33271: 1, 33621: 1, 34151: 1, 34155: 1, 34159: 1, 34169: 1, 34191: 1, 34278: 1, 34297: 1, 34379: 1, 34477: 1, 34523: 1, 34602: 1, 34657: 1, 34678: 1, 34683: 1, 34688: 1, 34703: 1, 34721: 1, 34731: 1, 34741: 1, 34789: 1, 36602: 1, 36744: 1, 40455: 1, 43268: 1, 43375: 1, 43446: 1, 44257: 1, 547: 1, 1220: 1, 1356: 1, 1664: 1, 1725: 1, 2915: 1, 3437: 1, 4494: 1, 6600: 1, 6672: 1, 6882: 1, 6883: 1, 6887: 1, 6976: 1, 7024: 1, 7257: 1, 8509: 1, 8715: 1, 11594: 1, 12633: 1, 16517: 1, 23718: 1, 24316: 1, 25278: 1, 26056: 1, 27585: 1, 28547: 1, 30454: 1, 31200: 1, 33258: 1, 38283: 1, 38696: 1, 39157: 1, 40038: 1, 45461: 1, 910: 1, 11424: 1, 26397: 1, 26419: 1, 4133: 1, 4233: 1, 10532: 1, 13681: 1, 16010: 1, 16655: 1, 16679: 1, 17059: 1, 18318: 1, 20321: 1, 23809: 1, 24550: 1, 27319: 1, 32663: 1, 36578: 1, 40130: 1, 40335: 1, 40359: 1, 40377: 1, 44645: 1, 16621: 1, 25099: 1, 27544: 1, 32706: 1}\n"
          ]
        }
      ]
    },
    {
      "cell_type": "code",
      "metadata": {
        "colab": {
          "base_uri": "https://localhost:8080/"
        },
        "id": "a8b742qqiqou",
        "outputId": "12dbb2b4-242d-46c7-dddc-c946447f4eda"
      },
      "source": [
        "list1 = [ 3, 4, 7 ]\n",
        "list2 = [ 5, 2, 3, 5,7, 4, 9 ]\n",
        "\n",
        "sum(x in list1 for x in list2)"
      ],
      "execution_count": null,
      "outputs": [
        {
          "output_type": "execute_result",
          "data": {
            "text/plain": [
              "3"
            ]
          },
          "metadata": {},
          "execution_count": 57
        }
      ]
    },
    {
      "cell_type": "code",
      "metadata": {
        "id": "OLw9c7hjMzFo"
      },
      "source": [
        "y ={}\n",
        "if y :\n",
        "  print(1)"
      ],
      "execution_count": null,
      "outputs": []
    },
    {
      "cell_type": "code",
      "metadata": {
        "id": "vLtlk0G9BdTI"
      },
      "source": [
        "recommendation ={   'Ritika': [5, 6,9,10,55,1,36,56,33,88,99,105,505,632,7],\n",
        "                    'Sam': [10,27], \n",
        "                    'John': [10, 9], \n",
        "                    'Aadi': []}\n",
        "recommendation['Ritika'][1]"
      ],
      "execution_count": null,
      "outputs": []
    },
    {
      "cell_type": "code",
      "metadata": {
        "colab": {
          "base_uri": "https://localhost:8080/"
        },
        "id": "-iyAqe3f4Trl",
        "outputId": "c17c55ec-7be7-4795-cd28-c5feceddebf2"
      },
      "source": [
        "a_dictionary = {\"b\": 2, \"c\": 3, \"a\": 1}\n",
        "\n",
        "dictionary_items = a_dictionary.items()\n",
        "\n",
        "sorted_items = sorted(dictionary_items)\n",
        "type(sorted_items)"
      ],
      "execution_count": null,
      "outputs": [
        {
          "output_type": "execute_result",
          "data": {
            "text/plain": [
              "list"
            ]
          },
          "metadata": {},
          "execution_count": 135
        }
      ]
    },
    {
      "cell_type": "code",
      "metadata": {
        "colab": {
          "base_uri": "https://localhost:8080/"
        },
        "id": "ic4ewIqC76RD",
        "outputId": "ba500b10-976d-4659-e11b-e22b71e6c7c1"
      },
      "source": [
        "x = {1: 2, 3: 4, 4: 3, 2: 1, 0: 0}\n",
        "{k: v for k, v in sorted(x.items(), key=lambda item: item[0])}\n",
        "# {0: 0, 1: 2, 2: 1, 3: 4, 4: 3}"
      ],
      "execution_count": null,
      "outputs": [
        {
          "output_type": "execute_result",
          "data": {
            "text/plain": [
              "{0: 0, 1: 2, 2: 1, 3: 4, 4: 3}"
            ]
          },
          "metadata": {},
          "execution_count": 143
        }
      ]
    },
    {
      "cell_type": "code",
      "metadata": {
        "colab": {
          "base_uri": "https://localhost:8080/"
        },
        "id": "kkEaXKPH_o1k",
        "outputId": "e22955a6-bbc5-49fb-95dc-00be4ce31f84"
      },
      "source": [
        "print(friend_recommendations[0])"
      ],
      "execution_count": null,
      "outputs": [
        {
          "output_type": "stream",
          "name": "stdout",
          "text": [
            "{135: 2, 623: 2, 629: 1, 2409: 1, 4999: 1, 6156: 1, 8715: 1, 8932: 1, 10623: 1, 12347: 1, 12846: 2, 13840: 1, 13845: 1, 13912: 1, 14005: 1, 14248: 1, 15190: 1, 17636: 1, 19217: 1, 20074: 1, 20075: 1, 21556: 1, 22939: 3, 23520: 1, 27536: 1, 28193: 2, 29481: 1, 29724: 2, 29726: 1, 29767: 1, 29791: 2, 29826: 1, 30257: 2, 30691: 3, 31232: 2, 31435: 1, 32317: 2, 32489: 1, 33060: 1, 34250: 1, 34280: 2, 34392: 1, 34394: 2, 34406: 1, 34418: 1, 34420: 1, 34439: 1, 34450: 1, 34651: 1, 35589: 3, 35605: 1, 35606: 1, 35613: 1, 35633: 2, 35648: 1, 35678: 1, 38737: 5, 43447: 1, 44846: 2, 44887: 2, 45054: 1, 49226: 1, 49592: 1, 49985: 1, 117: 1, 1220: 1, 2755: 1, 6893: 1, 12453: 1, 13795: 1, 16659: 1, 24539: 1, 24714: 1, 32828: 2, 41456: 1, 41878: 1, 45046: 1, 49927: 1, 1532: 3, 12636: 2, 13185: 1, 27552: 1, 15326: 1, 19068: 1, 19079: 2, 24596: 1, 33269: 1, 38792: 1, 38822: 1, 42697: 2, 46126: 1, 2022: 1, 23527: 1, 31140: 1, 32503: 1, 41457: 1, 43262: 1, 49574: 2, 98: 1, 543: 2, 575: 1, 2203: 1, 3238: 2, 5040: 2, 8795: 1, 9843: 1, 9847: 1, 11879: 1, 12682: 1, 14943: 1, 15283: 1, 15294: 1, 17874: 1, 18286: 1, 18311: 1, 18320: 1, 18332: 1, 18560: 1, 18625: 1, 20553: 1, 25247: 1, 33080: 1, 34412: 1, 35699: 1, 35776: 1, 35785: 1, 35822: 1, 38736: 1, 38750: 1, 38800: 1, 42231: 1, 1357: 1, 21843: 1, 31993: 1, 40218: 1, 40433: 1, 24777: 1, 33380: 1, 6085: 2, 18972: 1, 19269: 1, 6027: 2, 13793: 1, 23557: 1, 29581: 1, 35477: 2, 35617: 1, 44310: 1, 1754: 1, 7789: 1, 11142: 1, 12633: 1, 17898: 1, 19049: 1, 22486: 1, 26970: 1, 27554: 1, 27585: 1, 27591: 1, 27679: 2, 29576: 1, 32631: 1, 34906: 1, 41444: 1, 1085: 1, 7714: 1, 13285: 2, 27655: 1, 29379: 1, 35195: 1, 43121: 1, 111: 1, 129: 1, 274: 1, 1383: 1, 1600: 1, 2141: 1, 7284: 2, 9172: 1, 12584: 1, 13207: 1, 16519: 1, 18122: 1, 19051: 2, 23525: 1, 25177: 1, 30071: 1, 32045: 1, 32064: 1, 33439: 1, 39022: 1, 44412: 1, 44575: 1, 47887: 1, 444: 1, 42748: 1, 9745: 2, 12570: 2, 15520: 2, 19010: 1, 19044: 2, 29319: 1, 30062: 1, 31337: 3, 95: 1, 128: 1, 134: 1, 150: 1, 6157: 1, 20016: 1, 20533: 1, 20599: 1, 29872: 1, 31347: 2, 42704: 1, 44505: 1, 49678: 3, 2406: 1, 2411: 1, 12562: 1, 439: 1, 627: 1, 1001: 1, 1100: 1, 1234: 1, 1343: 1, 1694: 1, 1705: 1, 2019: 1, 2062: 1, 2142: 1, 2324: 1, 2413: 1, 2644: 2, 2646: 1, 2648: 1, 2659: 1, 2678: 1, 3131: 1, 3298: 1, 3573: 1, 3574: 1, 3734: 1, 3748: 1, 3895: 1, 3926: 1, 3931: 1, 4990: 1, 4993: 1, 5170: 1, 5487: 1, 5490: 1, 5588: 1, 5685: 1, 6995: 1, 7463: 1, 7718: 1, 8703: 1, 8706: 1, 8768: 1, 9289: 1, 9735: 1, 9892: 1, 10175: 1, 10240: 1, 11399: 1, 11416: 1, 12313: 1, 12680: 1, 13076: 1, 13661: 1, 13829: 1, 13849: 1, 13951: 1, 14070: 1, 14160: 1, 14182: 1, 15186: 1, 15356: 1, 16027: 1, 17235: 1, 17438: 1, 18075: 1, 18147: 1, 18148: 1, 18163: 1, 18338: 1, 18977: 1, 19358: 1, 19388: 1, 19427: 1, 19430: 1, 19983: 1, 20070: 1, 20283: 1, 20290: 1, 20557: 1, 21822: 1, 21873: 1, 22357: 1, 22520: 1, 23202: 1, 23512: 1, 25195: 1, 25239: 1, 25256: 1, 26887: 1, 27736: 1, 27808: 1, 29260: 1, 35585: 1, 44824: 1, 47445: 1, 2426: 1, 2432: 1, 4717: 2, 17025: 1, 17032: 1, 17033: 2, 20379: 1, 24733: 1, 33760: 1, 38841: 1, 9436: 1, 30156: 2, 43400: 1, 23061: 2, 38774: 1, 46644: 1, 242: 1, 18071: 1, 13081: 1, 26402: 1, 34211: 4, 42972: 1, 44373: 1, 12647: 1, 18556: 1, 48041: 1, 573: 1, 1495: 1, 1841: 2, 6169: 2, 18591: 4, 19565: 1, 26358: 1, 26948: 1, 29688: 1, 29689: 1, 29693: 1, 29694: 1, 29697: 1, 29700: 1, 29707: 1, 29711: 1, 29714: 1, 30940: 2, 34235: 1, 34892: 2, 34905: 1, 41684: 1, 49247: 2, 2188: 1, 2246: 2, 10821: 1, 12561: 3, 15314: 1, 19130: 2, 22355: 1, 22649: 1, 23362: 1, 27383: 4, 27888: 2, 28775: 1, 34586: 1, 34875: 3, 34904: 2, 40158: 1, 40610: 1, 40688: 1, 40830: 1, 40866: 1, 44005: 1, 15317: 1, 16514: 2, 33540: 1, 19083: 1, 29251: 1, 38192: 2, 956: 1, 7323: 1, 8804: 1, 13117: 1, 17915: 1, 38782: 1, 41432: 1, 42001: 1, 2572: 1, 2914: 1, 7327: 1, 9983: 1, 17199: 1, 17203: 1, 43279: 1, 29521: 1, 4389: 1, 8737: 1, 8859: 1, 10790: 1, 13344: 1, 16163: 1, 16165: 1, 18843: 1, 24731: 1, 34957: 1, 38300: 1, 39500: 1, 15234: 1, 23717: 1, 23756: 1, 23762: 1, 23768: 1, 23780: 1, 23785: 1, 23792: 1, 23807: 1, 23830: 1, 9156: 1, 32042: 1, 32300: 1, 1388: 1, 9796: 1, 24851: 1, 33447: 1, 38813: 1, 42150: 1, 42695: 1, 125: 2, 8136: 2, 23156: 1, 25701: 1, 1196: 1, 1814: 1, 2006: 1, 2791: 1, 2897: 1, 3400: 1, 4264: 1, 5038: 1, 5148: 1, 9504: 1, 9822: 1, 12640: 1, 13650: 1, 13655: 1, 13889: 1, 14049: 1, 14391: 1, 14969: 1, 15285: 1, 17880: 3, 18283: 1, 18294: 1, 18581: 1, 18614: 1, 18654: 1, 19513: 1, 20567: 1, 20615: 1, 21163: 1, 21565: 1, 28332: 1, 29382: 1, 35533: 1, 38626: 1, 40300: 1, 40429: 1, 40472: 1, 41628: 3, 41767: 1, 42013: 1, 42699: 1, 43892: 1, 44359: 1, 46050: 1, 48736: 2, 6935: 1, 23040: 1, 33123: 1, 1244: 1, 1797: 1, 1890: 1, 2276: 1, 6019: 1, 6894: 1, 7261: 1, 13387: 1, 21077: 1, 22615: 2, 24619: 1, 24740: 1, 27388: 1, 47810: 1, 37953: 1, 32496: 1, 34517: 1, 34553: 1, 34762: 1, 38123: 1, 2561: 1, 33256: 1, 43137: 1, 6319: 1, 23556: 1, 33386: 1, 15289: 1, 24521: 1, 1845: 1, 1884: 1, 4818: 1, 14265: 1, 20209: 1, 30040: 1, 22773: 1, 11599: 1, 45011: 2, 1366: 1, 1394: 1, 24903: 1, 29577: 1, 30223: 1, 33212: 1, 33272: 1, 38302: 1, 337: 3, 339: 1, 352: 3, 371: 1, 451: 2, 1324: 1, 8135: 1, 8426: 1, 11839: 1, 12143: 3, 13112: 1, 13557: 1, 13596: 2, 17434: 1, 23297: 1, 24209: 1, 25212: 3, 29478: 1, 30324: 1, 32964: 1, 33198: 1, 33786: 3, 35442: 1, 43152: 2, 43515: 1, 46281: 1, 47681: 2, 48029: 3, 48908: 2, 343: 2, 663: 1, 23581: 1, 48844: 1, 19467: 1, 21295: 2, 28203: 1, 2905: 1, 9774: 1, 10383: 1, 14290: 1, 24773: 1, 40463: 1, 43173: 1, 41507: 1, 43380: 1, 1838: 1, 2533: 1, 6477: 1, 7527: 1, 9781: 1, 15486: 1, 17552: 1, 19745: 1, 26362: 1, 40448: 1, 47617: 1, 49616: 1, 450: 1, 2063: 1, 2084: 1, 2552: 1, 3894: 2, 5274: 1, 6479: 1, 6525: 1, 10185: 1, 13215: 1, 13915: 1, 19917: 1, 20561: 1, 21162: 1, 23718: 1, 25182: 1, 25210: 1, 25262: 1, 27597: 1, 32347: 1, 34870: 1, 35590: 1, 35992: 1, 42422: 1, 42426: 1, 42711: 1, 43004: 1, 43742: 1, 44357: 1, 44943: 1, 46291: 1, 101: 1, 2662: 1, 4778: 1, 24789: 1, 48865: 1, 12519: 1, 2580: 1, 14435: 1, 364: 1, 523: 1, 547: 1, 4032: 1, 8167: 1, 10498: 1, 10506: 2, 11867: 1, 12067: 1, 12195: 1, 14371: 1, 23384: 1, 30493: 1, 35752: 1, 39162: 1, 40427: 1, 42982: 1, 44492: 1, 44500: 1, 45987: 1, 341: 1, 3503: 1, 3887: 1, 13578: 1, 33693: 1, 39738: 1, 43123: 1, 46781: 1, 1673: 1, 4839: 1, 5404: 1, 5957: 2, 9825: 1, 11865: 1, 12327: 1, 13495: 1, 13664: 1, 13712: 1, 15860: 1, 16796: 1, 18588: 1, 22089: 1, 23165: 1, 24226: 1, 27881: 1, 28611: 1, 31932: 1, 38827: 1, 40700: 1, 40995: 1, 476: 1, 962: 1, 1026: 1, 1029: 1, 1052: 1, 1078: 1, 1083: 1, 1084: 1, 1088: 1, 1113: 1, 1150: 1, 2215: 1, 2239: 1, 2641: 1, 2656: 1, 2657: 1, 3030: 1, 3458: 1, 3494: 1, 3736: 1, 3876: 1, 4143: 1, 4579: 1, 5438: 1, 5519: 1, 5561: 1, 5928: 1, 6541: 1, 6783: 1, 7299: 1, 7729: 1, 7858: 1, 8335: 1, 8667: 1, 8671: 1, 8774: 1, 8858: 1, 9166: 1, 9171: 1, 9639: 1, 9912: 1, 9995: 1, 9997: 1, 9998: 1, 9999: 1, 10001: 1, 10014: 1, 10018: 1, 10020: 1, 10023: 1, 10025: 1, 10038: 1, 10041: 1, 10042: 1, 10045: 1, 10048: 1, 10055: 1, 10058: 1, 10059: 1, 10063: 1, 10066: 1, 10077: 1, 10086: 1, 10089: 1, 10090: 1, 10099: 1, 10106: 1, 10108: 1, 10116: 1, 10130: 1, 10131: 1, 10775: 1, 10976: 1, 11008: 1, 13656: 1, 13792: 1, 13870: 1, 13882: 1, 14240: 1, 14372: 1, 14794: 1, 14857: 1, 15278: 1, 15354: 1, 15741: 1, 16324: 1, 16691: 1, 16706: 1, 16714: 1, 17290: 1, 17328: 1, 17519: 1, 17634: 1, 17975: 1, 18008: 1, 1417: 1, 2252: 1, 2255: 1, 9811: 1, 12577: 1, 15521: 1, 27392: 1, 35546: 1, 35778: 1, 40721: 1, 45418: 1, 696: 1, 728: 1, 758: 1, 783: 1, 795: 1, 1317: 1, 4053: 1, 7306: 1, 12597: 1, 13580: 1, 14318: 1, 15646: 1, 17503: 1, 17801: 1, 17995: 1, 18198: 1, 19974: 1, 20456: 1, 20488: 1, 20489: 1, 22626: 1, 24203: 1, 24208: 1, 24212: 1, 24218: 1, 24227: 1, 24235: 1, 24243: 1, 24249: 1, 24335: 1, 24616: 1, 28731: 1, 28862: 1, 29594: 1, 29612: 1, 30229: 1, 33051: 1, 38039: 1, 38743: 1, 40808: 1, 41975: 1, 43069: 1, 44570: 1, 49679: 1}\n"
          ]
        }
      ]
    },
    {
      "cell_type": "code",
      "metadata": {
        "id": "vxd23gLs2jBM"
      },
      "source": [
        "for user, value in friend_recommendations.items():\n",
        "  for secondUser in list(value.keys()):\n",
        "    {k: v for k, v in sorted(friend_recommendations[user].items(), key=lambda item: item[1])}"
      ],
      "execution_count": null,
      "outputs": []
    },
    {
      "cell_type": "code",
      "metadata": {
        "id": "ll9NGktF_rug"
      },
      "source": [
        "# Sort recommendations based on number of mutual friends and user IDs here... (3 POINTS)\n",
        "\n",
        "# for keys, values in friend_recommendations.items():\n",
        "#   values.sort(reverse=True) if len(values) < 10 else values.sort()\n",
        "\n",
        "for key in friend_recommendations.keys():\n",
        "  new_dict = {k: v for k, v in sorted(friend_recommendations[key].items(), key=operator.itemgetter(1), reverse=True)}  \n",
        "  friend_recommendations[key] = new_dict\n"
      ],
      "execution_count": 7,
      "outputs": []
    },
    {
      "cell_type": "code",
      "metadata": {
        "id": "EyQm9yuhcyg4"
      },
      "source": [
        "for key in friend_recommendations.keys():\n",
        "  print(friend_recommendations[key])"
      ],
      "execution_count": null,
      "outputs": []
    },
    {
      "cell_type": "code",
      "metadata": {
        "colab": {
          "base_uri": "https://localhost:8080/"
        },
        "id": "MUATv1VzcHE9",
        "outputId": "5b26e675-69e6-4aa5-9f00-7e8d9d703e70"
      },
      "source": [
        "# get \n",
        "friend_recommendations_with_10_mutral_friends ={}\n",
        "for key in friend_recommendations.keys():\n",
        "  friend_recommendations_with_10_mutral_friends[key] = {k:v for k, v in list(friend_recommendations[key].items())[:10]}\n",
        "\n",
        "print(friend_recommendations_with_10_mutral_friends[14191])"
      ],
      "execution_count": 15,
      "outputs": [
        {
          "output_type": "stream",
          "name": "stdout",
          "text": [
            "{14237: 41, 14206: 37, 14207: 35, 14231: 34, 14209: 32, 14234: 32, 23674: 30, 23592: 29, 14203: 27, 23611: 27}\n"
          ]
        }
      ]
    },
    {
      "cell_type": "code",
      "metadata": {
        "id": "2vOFlQcafyt8"
      },
      "source": [
        ""
      ],
      "execution_count": null,
      "outputs": []
    },
    {
      "cell_type": "code",
      "metadata": {
        "colab": {
          "base_uri": "https://localhost:8080/"
        },
        "id": "V--zaTvj_rug",
        "outputId": "975fe89e-ebbf-4db6-e85e-40ac1ea7c777"
      },
      "source": [
        "# Print recommendations of users 924, 1153, 6712, 8213, 12835, 23478 here (2 POINTS)\n",
        "\n",
        "\n",
        "\n",
        "for key, values in recommendation.items():\n",
        "  # values.sort(reverse=True)\n",
        "  print(key, ':', ', '.join(map(str,values[:10])))"
      ],
      "execution_count": null,
      "outputs": [
        {
          "output_type": "stream",
          "name": "stdout",
          "text": [
            "Ritika : 1, 5, 6, 7, 9, 10, 33, 36, 55, 56\n",
            "Sam : 27, 10\n",
            "John : 10, 9\n",
            "Aadi : \n"
          ]
        }
      ]
    },
    {
      "cell_type": "code",
      "metadata": {
        "scrolled": true,
        "id": "-94gCvoz_ruh"
      },
      "source": [
        ""
      ],
      "execution_count": null,
      "outputs": []
    },
    {
      "cell_type": "code",
      "metadata": {
        "id": "Qz-5EtvX_ruh"
      },
      "source": [
        "# Sample recommendation\n",
        "# 11: 27552, 7785, 27573, 27574, 27589, 27590, 27600, 27617, 27620, 27667"
      ],
      "execution_count": null,
      "outputs": []
    }
  ]
}