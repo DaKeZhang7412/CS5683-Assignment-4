{
  "nbformat": 4,
  "nbformat_minor": 0,
  "metadata": {
    "kernelspec": {
      "display_name": "Python 3",
      "language": "python",
      "name": "python3"
    },
    "language_info": {
      "codemirror_mode": {
        "name": "ipython",
        "version": 3
      },
      "file_extension": ".py",
      "mimetype": "text/x-python",
      "name": "python",
      "nbconvert_exporter": "python",
      "pygments_lexer": "ipython3",
      "version": "3.7.4"
    },
    "colab": {
      "name": "Assignment-4_Student.ipynb",
      "provenance": [],
      "collapsed_sections": [],
      "include_colab_link": true
    }
  },
  "cells": [
    {
      "cell_type": "markdown",
      "metadata": {
        "id": "view-in-github",
        "colab_type": "text"
      },
      "source": [
        "<a href=\"https://colab.research.google.com/github/DaKeZhang7412/CS5683-Assignment-4/blob/main/Assignment_4_Student.ipynb\" target=\"_parent\"><img src=\"https://colab.research.google.com/assets/colab-badge.svg\" alt=\"Open In Colab\"/></a>"
      ]
    },
    {
      "cell_type": "markdown",
      "metadata": {
        "id": "M3eAoyJk_ruW"
      },
      "source": [
        "# CS 5683 - Big Data Analytics\n",
        "## Assignment - 4: Friend Recommendation"
      ]
    },
    {
      "cell_type": "code",
      "metadata": {
        "id": "2U7cjiFO_ruZ"
      },
      "source": [
        "import itertools"
      ],
      "execution_count": 3,
      "outputs": []
    },
    {
      "cell_type": "markdown",
      "metadata": {
        "id": "xR8RPBMx_rub"
      },
      "source": [
        "### Assignment Total: 10 points (3% of final)"
      ]
    },
    {
      "cell_type": "raw",
      "metadata": {
        "id": "KXjGASPx_rub"
      },
      "source": [
        "In this assignment we will create a simple recommender engine that recommend friends based on number of mutual friends"
      ]
    },
    {
      "cell_type": "code",
      "metadata": {
        "id": "W_fAfmfK_ruc"
      },
      "source": [
        ""
      ],
      "execution_count": null,
      "outputs": []
    },
    {
      "cell_type": "markdown",
      "metadata": {
        "id": "zAn7pc0v_ruc"
      },
      "source": [
        "##### Comsider the following list as a simple matrix 'M' for all tasks of this assignment"
      ]
    },
    {
      "cell_type": "code",
      "metadata": {
        "id": "zZkAoyy1_rud"
      },
      "source": [
        "input_data = 'soc-LiveJournal1Adj.txt'"
      ],
      "execution_count": 1,
      "outputs": []
    },
    {
      "cell_type": "code",
      "metadata": {
        "id": "Qik8xmcn_rue"
      },
      "source": [
        "direct_friends = dict() # Stores directly connected friends\n",
        "\n",
        "# friend_recommendations stores user recommendations\n",
        "# It should be of type dict[dict]\n",
        "# Example-1: \n",
        "    # friend_recommendations[100][125] = 1 \n",
        "    # -- meaning that users 100 and 125 have 1 mutual friend\n",
        "    # In other words, 1 user has 100 and 125 as direct friends\n",
        "# Example-2: \n",
        "    # friend_recommendations[100][146] = 4 \n",
        "    # -- meaning that users 100 and 125 have 4 mutual friends\n",
        "    # In other words, 4 users have 100 and 146 as direct friends\n",
        "friend_recommendations = dict()\n",
        "\n",
        "fp = open(input_data,'r')\n",
        "\n",
        "# Iterate through the data once and fill direct_friends and friend_recommendations\n",
        "for line in fp:\n",
        "    line_split = line.split()\n",
        "    \n",
        "    if len(line_split) == 2:\n",
        "        user = int(line_split[0])\n",
        "        friends = map(int, set(line_split[1].split(',')))\n",
        "        direct_friends[user] = friends\n",
        "        \n",
        "        # Generate user pairs to identify friend recommendation\n",
        "        recommendations = list(itertools.permutations(friends,2))\n",
        "        \n",
        "        # Fill friend_recommendations below (3 POINTS)\n",
        "        \n",
        "        \n",
        "        \n",
        "\n",
        "fp.close()"
      ],
      "execution_count": 4,
      "outputs": []
    },
    {
      "cell_type": "code",
      "metadata": {
        "colab": {
          "base_uri": "https://localhost:8080/"
        },
        "id": "pisqnmK_AdrU",
        "outputId": "1ac883cb-5f40-4d7f-d31d-5639caa1e023"
      },
      "source": [
        "recommendations"
      ],
      "execution_count": 5,
      "outputs": [
        {
          "output_type": "execute_result",
          "data": {
            "text/plain": [
              "[]"
            ]
          },
          "metadata": {},
          "execution_count": 5
        }
      ]
    },
    {
      "cell_type": "code",
      "metadata": {
        "id": "1-W8PFlq_ruf"
      },
      "source": [
        "# Remove direct friends from friend_recommendations (2 POINTS)\n"
      ],
      "execution_count": null,
      "outputs": []
    },
    {
      "cell_type": "code",
      "metadata": {
        "id": "ll9NGktF_rug"
      },
      "source": [
        "# Sort recommendations based on number of mutual friends and user IDs here... (3 POINTS)\n"
      ],
      "execution_count": null,
      "outputs": []
    },
    {
      "cell_type": "code",
      "metadata": {
        "colab": {
          "base_uri": "https://localhost:8080/"
        },
        "id": "vLtlk0G9BdTI",
        "outputId": "aadf544d-4459-4723-e315-fac24a759ddd"
      },
      "source": [
        "friend_recommendations ={   'Ritika': [5, 6,9,10,55,1,36,56,33,88,99,105,505,632,7],\n",
        "                    'Sam': [7], \n",
        "                    'John': [10], \n",
        "                    'Aadi': [8]}\n",
        "friend_recommendations['Ritika'][1]"
      ],
      "execution_count": 73,
      "outputs": [
        {
          "output_type": "execute_result",
          "data": {
            "text/plain": [
              "6"
            ]
          },
          "metadata": {},
          "execution_count": 73
        }
      ]
    },
    {
      "cell_type": "code",
      "metadata": {
        "colab": {
          "base_uri": "https://localhost:8080/"
        },
        "id": "V--zaTvj_rug",
        "outputId": "f536fd9c-dfdb-46cc-fd42-27ccd5683fcc"
      },
      "source": [
        "# Print recommendations of users 924, 1153, 6712, 8213, 12835, 23478 here (2 POINTS)\n",
        "\n",
        "for key, values in friend_recommendations.items():\n",
        "  values.sort(reverse=True)\n",
        "  print(key, ':', ', '.join(map(str,values[:10])))"
      ],
      "execution_count": 77,
      "outputs": [
        {
          "output_type": "stream",
          "name": "stdout",
          "text": [
            "Ritika : 632, 505, 105, 99, 88, 56, 55, 36, 33, 10\n",
            "Sam : 7\n",
            "John : 10\n",
            "Aadi : 8\n"
          ]
        }
      ]
    },
    {
      "cell_type": "code",
      "metadata": {
        "scrolled": true,
        "id": "-94gCvoz_ruh"
      },
      "source": [
        ""
      ],
      "execution_count": null,
      "outputs": []
    },
    {
      "cell_type": "code",
      "metadata": {
        "id": "Qz-5EtvX_ruh"
      },
      "source": [
        "# Sample recommendation\n",
        "# 11: 27552, 7785, 27573, 27574, 27589, 27590, 27600, 27617, 27620, 27667"
      ],
      "execution_count": null,
      "outputs": []
    }
  ]
}