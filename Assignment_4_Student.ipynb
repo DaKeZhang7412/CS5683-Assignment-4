{
  "nbformat": 4,
  "nbformat_minor": 0,
  "metadata": {
    "kernelspec": {
      "display_name": "Python 3",
      "language": "python",
      "name": "python3"
    },
    "language_info": {
      "codemirror_mode": {
        "name": "ipython",
        "version": 3
      },
      "file_extension": ".py",
      "mimetype": "text/x-python",
      "name": "python",
      "nbconvert_exporter": "python",
      "pygments_lexer": "ipython3",
      "version": "3.7.4"
    },
    "colab": {
      "name": "Assignment-4_Student.ipynb",
      "provenance": [],
      "collapsed_sections": [],
      "include_colab_link": true
    }
  },
  "cells": [
    {
      "cell_type": "markdown",
      "metadata": {
        "id": "view-in-github",
        "colab_type": "text"
      },
      "source": [
        "<a href=\"https://colab.research.google.com/github/DaKeZhang7412/CS5683-Assignment-4/blob/main/Assignment_4_Student.ipynb\" target=\"_parent\"><img src=\"https://colab.research.google.com/assets/colab-badge.svg\" alt=\"Open In Colab\"/></a>"
      ]
    },
    {
      "cell_type": "markdown",
      "metadata": {
        "id": "M3eAoyJk_ruW"
      },
      "source": [
        "# CS 5683 - Big Data Analytics\n",
        "## Assignment - 4: Friend Recommendation"
      ]
    },
    {
      "cell_type": "code",
      "metadata": {
        "id": "2U7cjiFO_ruZ"
      },
      "source": [
        "import itertools"
      ],
      "execution_count": 2,
      "outputs": []
    },
    {
      "cell_type": "markdown",
      "metadata": {
        "id": "xR8RPBMx_rub"
      },
      "source": [
        "### Assignment Total: 10 points (3% of final)"
      ]
    },
    {
      "cell_type": "raw",
      "metadata": {
        "id": "KXjGASPx_rub"
      },
      "source": [
        "In this assignment we will create a simple recommender engine that recommend friends based on number of mutual friends"
      ]
    },
    {
      "cell_type": "code",
      "metadata": {
        "id": "W_fAfmfK_ruc"
      },
      "source": [
        ""
      ],
      "execution_count": null,
      "outputs": []
    },
    {
      "cell_type": "markdown",
      "metadata": {
        "id": "zAn7pc0v_ruc"
      },
      "source": [
        "##### Comsider the following list as a simple matrix 'M' for all tasks of this assignment"
      ]
    },
    {
      "cell_type": "code",
      "metadata": {
        "id": "zZkAoyy1_rud"
      },
      "source": [
        "input_data = 'soc-LiveJournal1Adj.txt'"
      ],
      "execution_count": 3,
      "outputs": []
    },
    {
      "cell_type": "code",
      "metadata": {
        "id": "Qik8xmcn_rue"
      },
      "source": [
        "direct_friends = dict() # Stores directly connected friends\n",
        "\n",
        "# friend_recommendations stores user recommendations\n",
        "# It should be of type dict[dict]\n",
        "# Example-1: \n",
        "    # friend_recommendations[100][125] = 1 \n",
        "    # -- meaning that users 100 and 125 have 1 mutual friend\n",
        "    # In other words, 1 user has 100 and 125 as direct friends\n",
        "# Example-2: \n",
        "    # friend_recommendations[100][146] = 4 \n",
        "    # -- meaning that users 100 and 125 have 4 mutual friends\n",
        "    # In other words, 4 users have 100 and 146 as direct friends\n",
        "friend_recommendations = dict()\n",
        "\n",
        "fp = open(input_data,'r')\n",
        "\n",
        "# Iterate through the data once and fill direct_friends and friend_recommendations\n",
        "for line in fp:\n",
        "    line_split = line.split()\n",
        "    if len(line_split) == 2:\n",
        "        user = int(line_split[0])\n",
        "        friends = map(int, set(line_split[1].split(',')))\n",
        "        direct_friends[user] = friends\n",
        "        print(list(direct_friends[user]))\n",
        "        \n",
        "        # Generate user pairs to identify friend recommendation\n",
        "        recommendations = list(itertools.permutations(friends,2))\n",
        "        \n",
        "        # Fill friend_recommendations below (3 POINTS)\n",
        "        # for i in range(len(user)):\n",
        "          # sum(x in list1 for x in list2)\n",
        "        \n",
        "        \n",
        "    print(recommendations)\n",
        "fp.close()"
      ],
      "execution_count": null,
      "outputs": []
    },
    {
      "cell_type": "code",
      "metadata": {
        "colab": {
          "base_uri": "https://localhost:8080/"
        },
        "id": "a8b742qqiqou",
        "outputId": "be668697-0af3-4ea5-ecf2-5c8f855d0618"
      },
      "source": [
        "list1 = [ 3, 4, 7 ]\n",
        "list2 = [ 5, 2, 3, 5,7, 4, 9 ]\n",
        "\n",
        "sum(x in list1 for x in list2)"
      ],
      "execution_count": 17,
      "outputs": [
        {
          "output_type": "execute_result",
          "data": {
            "text/plain": [
              "3"
            ]
          },
          "metadata": {},
          "execution_count": 17
        }
      ]
    },
    {
      "cell_type": "code",
      "metadata": {
        "id": "pisqnmK_AdrU"
      },
      "source": [
        "for i in direct_friends:\n",
        "  for j in i:\n",
        "    print(i[j])\n",
        "\n",
        "# print(list(friends))"
      ],
      "execution_count": null,
      "outputs": []
    },
    {
      "cell_type": "code",
      "metadata": {
        "id": "1-W8PFlq_ruf"
      },
      "source": [
        "# Remove direct friends from friend_recommendations (2 POINTS)\n",
        "\n"
      ],
      "execution_count": null,
      "outputs": []
    },
    {
      "cell_type": "code",
      "metadata": {
        "colab": {
          "base_uri": "https://localhost:8080/"
        },
        "id": "vLtlk0G9BdTI",
        "outputId": "ddd5ef68-1a60-4efe-fc51-8e6ebcc1d04b"
      },
      "source": [
        "friend_recommendations ={   'Ritika': [5, 6,9,10,55,1,36,56,33,88,99,105,505,632,7],\n",
        "                    'Sam': [10,27], \n",
        "                    'John': [10, 9], \n",
        "                    'Aadi': []}\n",
        "friend_recommendations['Ritika'][1]"
      ],
      "execution_count": null,
      "outputs": [
        {
          "output_type": "execute_result",
          "data": {
            "text/plain": [
              "6"
            ]
          },
          "metadata": {},
          "execution_count": 86
        }
      ]
    },
    {
      "cell_type": "code",
      "metadata": {
        "id": "ll9NGktF_rug"
      },
      "source": [
        "# Sort recommendations based on number of mutual friends and user IDs here... (3 POINTS)\n",
        "for key, values in friend_recommendations.items():\n",
        "  values.sort(reverse=True) if len(values) < 10 else values.sort()"
      ],
      "execution_count": null,
      "outputs": []
    },
    {
      "cell_type": "code",
      "metadata": {
        "colab": {
          "base_uri": "https://localhost:8080/"
        },
        "id": "V--zaTvj_rug",
        "outputId": "0e0b975e-a738-4276-c15a-2d087a79e341"
      },
      "source": [
        "# Print recommendations of users 924, 1153, 6712, 8213, 12835, 23478 here (2 POINTS)\n",
        "\n",
        "for key, values in friend_recommendations.items():\n",
        "  # values.sort(reverse=True)\n",
        "  print(key, ':', ', '.join(map(str,values[:10])))"
      ],
      "execution_count": null,
      "outputs": [
        {
          "output_type": "stream",
          "name": "stdout",
          "text": [
            "Ritika : 1, 5, 6, 7, 9, 10, 33, 36, 55, 56\n",
            "Sam : 27, 10\n",
            "John : 10, 9\n",
            "Aadi : \n"
          ]
        }
      ]
    },
    {
      "cell_type": "code",
      "metadata": {
        "scrolled": true,
        "id": "-94gCvoz_ruh"
      },
      "source": [
        ""
      ],
      "execution_count": null,
      "outputs": []
    },
    {
      "cell_type": "code",
      "metadata": {
        "id": "Qz-5EtvX_ruh"
      },
      "source": [
        "# Sample recommendation\n",
        "# 11: 27552, 7785, 27573, 27574, 27589, 27590, 27600, 27617, 27620, 27667"
      ],
      "execution_count": null,
      "outputs": []
    }
  ]
}